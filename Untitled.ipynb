{
 "cells": [
  {
   "cell_type": "code",
   "execution_count": 2,
   "metadata": {
    "collapsed": false
   },
   "outputs": [],
   "source": [
    "from ipywidgets import *"
   ]
  },
  {
   "cell_type": "code",
   "execution_count": 3,
   "metadata": {
    "collapsed": true
   },
   "outputs": [],
   "source": [
    "from IPython.display import display"
   ]
  },
  {
   "cell_type": "code",
   "execution_count": 4,
   "metadata": {
    "collapsed": false
   },
   "outputs": [],
   "source": [
    "w = IntSlider()\n",
    "display(w)"
   ]
  },
  {
   "cell_type": "code",
   "execution_count": 5,
   "metadata": {
    "collapsed": false
   },
   "outputs": [
    {
     "data": {
      "text/html": [
       "<table><tr><td>Something here</td><td>Button 1 here</td></tr><tr><td>Something here</td><td>Button 2 here</td></tr></table>"
      ],
      "text/plain": [
       "<IPython.core.display.HTML object>"
      ]
     },
     "metadata": {},
     "output_type": "display_data"
    }
   ],
   "source": [
    "import ipywidgets\n",
    "from IPython.display import display\n",
    "\n",
    "from IPython.core.display import HTML\n",
    "\n",
    "def func(btn):\n",
    "    print('Hi!')\n",
    "\n",
    "btn1 = ipywidgets.Button(description=\"Click me!\")\n",
    "btn1.on_click(func)\n",
    "btn2 = ipywidgets.Button(description=\"Click me!\")\n",
    "btn2.on_click(func)\n",
    "display(btn1)\n",
    "display(btn2)\n",
    "\n",
    "display(HTML(\n",
    "        '<table>' +\n",
    "        '<tr><td>Something here</td><td>Button 1 here</td></tr>' +\n",
    "        '<tr><td>Something here</td><td>Button 2 here</td></tr>' +\n",
    "        '</table>'\n",
    "    ))"
   ]
  },
  {
   "cell_type": "code",
   "execution_count": null,
   "metadata": {
    "collapsed": true
   },
   "outputs": [],
   "source": []
  }
 ],
 "metadata": {
  "kernelspec": {
   "display_name": "Python 3",
   "language": "python",
   "name": "python3"
  },
  "language_info": {
   "codemirror_mode": {
    "name": "ipython",
    "version": 3
   },
   "file_extension": ".py",
   "mimetype": "text/x-python",
   "name": "python",
   "nbconvert_exporter": "python",
   "pygments_lexer": "ipython3",
   "version": "3.5.2"
  },
  "widgets": {
   "state": {
    "38d9edf88d86499ea998514e7720245b": {
     "views": [
      {
       "cell_index": 3
      }
     ]
    },
    "56a2930b6bc14645b2993253e2ce6af6": {
     "views": [
      {
       "cell_index": 2
      }
     ]
    },
    "d7696b56dd8445b48442ccb564b333d2": {
     "views": [
      {
       "cell_index": 3
      }
     ]
    }
   },
   "version": "1.2.0"
  }
 },
 "nbformat": 4,
 "nbformat_minor": 1
}
